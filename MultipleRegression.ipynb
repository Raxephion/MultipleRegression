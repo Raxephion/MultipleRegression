{
 "cells": [
  {
   "cell_type": "code",
   "execution_count": 1,
   "id": "2bb51f35-2d5e-4cea-a43d-61ae166459be",
   "metadata": {},
   "outputs": [
    {
     "name": "stdout",
     "output_type": "stream",
     "text": [
      "[107.2087328]\n"
     ]
    },
    {
     "name": "stderr",
     "output_type": "stream",
     "text": [
      "C:\\ProgramData\\Anaconda3\\lib\\site-packages\\sklearn\\base.py:450: UserWarning: X does not have valid feature names, but LinearRegression was fitted with feature names\n",
      "  warnings.warn(\n"
     ]
    }
   ],
   "source": [
    "\n",
    "\"\"\"\n",
    "Created on Wed Jul 13 15:21:53 2022\n",
    "\n",
    "@author: Pierre-Henri Rossouw\n",
    "\n",
    "ML_Multiple Regression1\n",
    "\n",
    "Predict value based on 2 or MORE variables.\n",
    "\n",
    "\n",
    "PREDICTING CO2 EMISSIONS OF VEHICLE BASED ON THE SIZE OF THE ENGINE, WEIGHT OF CAR, ETC\n",
    "\n",
    "\"\"\"\n",
    "\n",
    "\n",
    "\n",
    "\n",
    "import pandas\n",
    "from sklearn import linear_model\n",
    "\n",
    "df = pandas.read_csv(\"cars.csv\")  #import dataframe of variables\n",
    "\n",
    "\n",
    "\n",
    "'NB Common to name list of independent variables uppercase X and dependent values with lowercase y'\n",
    "\n",
    "X = df[['Weight', 'Volume']]    #Make a list of independent variables \n",
    "y = df['CO2']                   #Make a list of dependent variables\n",
    "\n",
    "\n",
    "regr = linear_model.LinearRegression() #method to create linear regression object\n",
    "regr.fit(X,y)   #object has method called 'fit()' that takes independent and dependent values\n",
    "                #as parameters and fills the regression object with data that describes the relationship\n",
    "\n",
    "\n",
    "#Predict the CO2 emissions of a car where the weight is 2300kg, and the volume is 1300cm3:\n",
    "\n",
    "predictedCO2 = regr.predict([[2300, 1300]]) #We have predicted that a car with 1.3liter engine, and \n",
    "                                            #weight of 2300kg, will release approx 107 grams of CO2 for every km\n",
    "                                                                                                                                   \n",
    "                                    \n",
    "\n",
    "print(predictedCO2)"
   ]
  },
  {
   "cell_type": "code",
   "execution_count": null,
   "id": "d13300c6-81e9-43ca-9972-646d4a7ea88f",
   "metadata": {},
   "outputs": [],
   "source": []
  }
 ],
 "metadata": {
  "kernelspec": {
   "display_name": "Python 3 (ipykernel)",
   "language": "python",
   "name": "python3"
  },
  "language_info": {
   "codemirror_mode": {
    "name": "ipython",
    "version": 3
   },
   "file_extension": ".py",
   "mimetype": "text/x-python",
   "name": "python",
   "nbconvert_exporter": "python",
   "pygments_lexer": "ipython3",
   "version": "3.9.12"
  }
 },
 "nbformat": 4,
 "nbformat_minor": 5
}
